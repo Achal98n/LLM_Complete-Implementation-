{
  "cells": [
    {
      "cell_type": "markdown",
      "metadata": {
        "id": "gO5Z0qErNuOt"
      },
      "source": [
        "# Self Attention in Transformers"
      ]
    },
    {
      "cell_type": "markdown",
      "metadata": {
        "id": "HedntyUvLrBo"
      },
      "source": [
        "## Generate Data"
      ]
    },
    {
      "cell_type": "code",
      "execution_count": 1,
      "metadata": {
        "id": "xtKbaWhFJui3"
      },
      "outputs": [],
      "source": [
        "import numpy as np\n",
        "import math\n",
        "\n",
        "L, d_k, d_v = 4, 8, 8\n",
        "q = np.random.randn(L, d_k)\n",
        "k = np.random.randn(L, d_k)\n",
        "v = np.random.randn(L, d_v)"
      ]
    },
    {
      "cell_type": "code",
      "execution_count": 2,
      "metadata": {
        "colab": {
          "base_uri": "https://localhost:8080/"
        },
        "id": "09JpvuNJ2sZC",
        "outputId": "30d2c627-8647-44e0-aa92-c9e53e3b7843"
      },
      "outputs": [
        {
          "name": "stdout",
          "output_type": "stream",
          "text": [
            "Q\n",
            " [[ 0.88888321 -0.82574469  0.46908683 -0.45678327 -1.38265852  0.1694321\n",
            "  -1.59119032 -1.00098324]\n",
            " [ 0.28561517  0.74317068 -0.12289067  0.80702098  0.40739247 -1.09360065\n",
            "  -1.434       0.29304955]\n",
            " [-0.38901001 -0.25273029  0.68103981  0.79027909  0.41875152  0.30114817\n",
            "  -2.40908679  0.54390039]\n",
            " [-0.824473   -1.08835662 -0.09119343 -0.33749289  0.64509967 -0.98941865\n",
            "  -0.51312064 -0.81792968]]\n",
            "K\n",
            " [[-0.81240097  1.5552482   0.35304198 -0.43006368 -0.11817176 -0.40379548\n",
            "  -1.51102001 -0.58216536]\n",
            " [-0.66054204  0.2284632   0.37370332  0.52223403  0.88503708  0.02266103\n",
            "  -0.24734445 -0.74583914]\n",
            " [-0.09362249  0.3931177  -1.09009438 -0.27058443  0.51030466 -0.76357283\n",
            "   0.28079781  0.21337443]\n",
            " [ 1.61403764 -0.89593099 -0.47805923 -0.55238847 -0.71730832 -0.10996484\n",
            "  -0.54357201 -0.07042023]]\n",
            "V\n",
            " [[ 0.25071438  0.48167573 -0.83957978  1.01643075 -1.23111387 -0.18240207\n",
            "  -0.20065327  0.95013036]\n",
            " [ 0.82162369  0.10292045 -0.05746185  0.52864418 -0.66952928 -1.78059581\n",
            "   0.77813588 -0.40108804]\n",
            " [-0.66864595 -1.42532636  0.10349183 -0.39111405 -0.82901721  1.36554832\n",
            "   1.00452033  0.1064458 ]\n",
            " [-0.20783097 -1.24203338 -0.21402217  0.51111155 -1.04557928  0.89600215\n",
            "  -0.68059817 -0.46919933]]\n"
          ]
        }
      ],
      "source": [
        "print(\"Q\\n\", q)\n",
        "print(\"K\\n\", k)\n",
        "print(\"V\\n\", v)"
      ]
    },
    {
      "cell_type": "markdown",
      "metadata": {
        "id": "tV6txskBLwjh"
      },
      "source": [
        "## Self Attention\n",
        "\n",
        "$$\n",
        "\\text{self attention} = softmax\\bigg(\\frac{Q.K^T}{\\sqrt{d_k}}+M\\bigg)\n",
        "$$\n",
        "\n",
        "$$\n",
        "\\text{new V} = \\text{self attention}.V\n",
        "$$ "
      ]
    },
    {
      "cell_type": "code",
      "execution_count": 3,
      "metadata": {
        "colab": {
          "base_uri": "https://localhost:8080/"
        },
        "id": "x7GePHKk3Mh0",
        "outputId": "7dae7f5e-4715-4fd4-fbfd-7c0815e7d39e"
      },
      "outputs": [
        {
          "data": {
            "text/plain": [
              "array([[ 1.43771917, -0.91876546, -2.29092261,  4.11114863],\n",
              "       [ 2.92297295,  0.82855493,  0.88381188, -0.00499881],\n",
              "       [ 2.9759906 ,  1.43408237, -1.59583712, -0.22584542],\n",
              "       [ 0.66488242,  1.37109747,  0.60614886, -0.14303226]])"
            ]
          },
          "execution_count": 3,
          "metadata": {},
          "output_type": "execute_result"
        }
      ],
      "source": [
        "np.matmul(q, k.T)"
      ]
    },
    {
      "cell_type": "code",
      "execution_count": 4,
      "metadata": {
        "colab": {
          "base_uri": "https://localhost:8080/"
        },
        "id": "odK76OoI3nL2",
        "outputId": "69b50cdb-9a41-45ae-bfd2-619228af1ef7"
      },
      "outputs": [
        {
          "data": {
            "text/plain": [
              "(0.6897827402551442, 0.4723119359876851, 2.6379631225244347)"
            ]
          },
          "execution_count": 4,
          "metadata": {},
          "output_type": "execute_result"
        }
      ],
      "source": [
        "# Why we need sqrt(d_k) in denominator\n",
        "q.var(), k.var(), np.matmul(q, k.T).var()"
      ]
    },
    {
      "cell_type": "code",
      "execution_count": 5,
      "metadata": {
        "colab": {
          "base_uri": "https://localhost:8080/"
        },
        "id": "0Ps6AY1Q3tRI",
        "outputId": "3b9ac3c8-70b8-47bd-e868-e7d6fd26d270"
      },
      "outputs": [
        {
          "data": {
            "text/plain": [
              "(0.6897827402551442, 0.4723119359876851, 0.3297453903155543)"
            ]
          },
          "execution_count": 5,
          "metadata": {},
          "output_type": "execute_result"
        }
      ],
      "source": [
        "scaled = np.matmul(q, k.T) / math.sqrt(d_k)\n",
        "q.var(), k.var(), scaled.var()"
      ]
    },
    {
      "cell_type": "markdown",
      "metadata": {
        "id": "ypO9IK1PL3cJ"
      },
      "source": [
        "Notice the reduction in variance of the product"
      ]
    },
    {
      "cell_type": "code",
      "execution_count": 6,
      "metadata": {
        "colab": {
          "base_uri": "https://localhost:8080/"
        },
        "id": "LVHAJR4N4VQX",
        "outputId": "52b06cf8-0381-453c-b576-0bd8de9a38b5"
      },
      "outputs": [
        {
          "data": {
            "text/plain": [
              "array([[ 0.50831049, -0.32483264, -0.80996346,  1.45351054],\n",
              "       [ 1.033427  ,  0.2929384 ,  0.31247469, -0.00176735],\n",
              "       [ 1.05217157,  0.50702468, -0.56421362, -0.07984841],\n",
              "       [ 0.23507143,  0.48475616,  0.21430599, -0.05056954]])"
            ]
          },
          "execution_count": 6,
          "metadata": {},
          "output_type": "execute_result"
        }
      ],
      "source": [
        "scaled"
      ]
    },
    {
      "cell_type": "markdown",
      "metadata": {
        "id": "Dmz4v-RmMAaj"
      },
      "source": [
        "## Masking\n",
        "\n",
        "- This is to ensure words don't get context from words generated in the future. \n",
        "- Not required in the encoders, but required int he decoders"
      ]
    },
    {
      "cell_type": "code",
      "execution_count": 7,
      "metadata": {
        "colab": {
          "base_uri": "https://localhost:8080/"
        },
        "id": "e8N3OhSLILfG",
        "outputId": "2c63a444-066c-44b2-abe5-242dd989f311"
      },
      "outputs": [
        {
          "data": {
            "text/plain": [
              "array([[1., 0., 0., 0.],\n",
              "       [1., 1., 0., 0.],\n",
              "       [1., 1., 1., 0.],\n",
              "       [1., 1., 1., 1.]])"
            ]
          },
          "execution_count": 7,
          "metadata": {},
          "output_type": "execute_result"
        }
      ],
      "source": [
        "mask = np.tril(np.ones( (L, L) ))\n",
        "mask"
      ]
    },
    {
      "cell_type": "code",
      "execution_count": 8,
      "metadata": {
        "id": "hIV9K3Yn6s1V"
      },
      "outputs": [],
      "source": [
        "mask[mask == 0] = -np.infty\n",
        "mask[mask == 1] = 0"
      ]
    },
    {
      "cell_type": "code",
      "execution_count": 9,
      "metadata": {
        "colab": {
          "base_uri": "https://localhost:8080/"
        },
        "id": "LK5V_T3W6vpX",
        "outputId": "bb4160a1-a011-4850-e403-9cb252572c66"
      },
      "outputs": [
        {
          "data": {
            "text/plain": [
              "array([[  0., -inf, -inf, -inf],\n",
              "       [  0.,   0., -inf, -inf],\n",
              "       [  0.,   0.,   0., -inf],\n",
              "       [  0.,   0.,   0.,   0.]])"
            ]
          },
          "execution_count": 9,
          "metadata": {},
          "output_type": "execute_result"
        }
      ],
      "source": [
        "mask"
      ]
    },
    {
      "cell_type": "code",
      "execution_count": 10,
      "metadata": {
        "colab": {
          "base_uri": "https://localhost:8080/"
        },
        "id": "lNH1VgEf7xTa",
        "outputId": "4211c411-0356-4e39-8388-d39b0c1d0920"
      },
      "outputs": [
        {
          "data": {
            "text/plain": [
              "array([[ 0.50831049,        -inf,        -inf,        -inf],\n",
              "       [ 1.033427  ,  0.2929384 ,        -inf,        -inf],\n",
              "       [ 1.05217157,  0.50702468, -0.56421362,        -inf],\n",
              "       [ 0.23507143,  0.48475616,  0.21430599, -0.05056954]])"
            ]
          },
          "execution_count": 10,
          "metadata": {},
          "output_type": "execute_result"
        }
      ],
      "source": [
        "scaled + mask"
      ]
    },
    {
      "cell_type": "markdown",
      "metadata": {
        "id": "XMTAXjooN9eZ"
      },
      "source": [
        "## Softmax\n",
        "\n",
        "$$\n",
        "\\text{softmax} = \\frac{e^{x_i}}{\\sum_j e^x_j}\n",
        "$$"
      ]
    },
    {
      "cell_type": "code",
      "execution_count": 11,
      "metadata": {
        "id": "2R4gdRqj8W4Y"
      },
      "outputs": [],
      "source": [
        "def softmax(x):\n",
        "  return (np.exp(x).T / np.sum(np.exp(x), axis=-1)).T"
      ]
    },
    {
      "cell_type": "code",
      "execution_count": 12,
      "metadata": {
        "id": "K5eg2zPy41sP"
      },
      "outputs": [],
      "source": [
        "attention = softmax(scaled + mask)"
      ]
    },
    {
      "cell_type": "code",
      "execution_count": 13,
      "metadata": {
        "colab": {
          "base_uri": "https://localhost:8080/"
        },
        "id": "7sauNmfl-1TB",
        "outputId": "46b22beb-9034-4c7c-8d56-04209d2581c4"
      },
      "outputs": [
        {
          "data": {
            "text/plain": [
              "array([[1.        , 0.        , 0.        , 0.        ],\n",
              "       [0.67710269, 0.32289731, 0.        , 0.        ],\n",
              "       [0.56231205, 0.32600414, 0.11168381, 0.        ],\n",
              "       [0.24909071, 0.31973798, 0.24397157, 0.18719974]])"
            ]
          },
          "execution_count": 13,
          "metadata": {},
          "output_type": "execute_result"
        }
      ],
      "source": [
        "attention"
      ]
    },
    {
      "cell_type": "code",
      "execution_count": 14,
      "metadata": {
        "colab": {
          "base_uri": "https://localhost:8080/"
        },
        "id": "BAy37go56LZo",
        "outputId": "78d97fa1-e0b3-4c1d-8294-bf0fdb77f199"
      },
      "outputs": [
        {
          "data": {
            "text/plain": [
              "array([[ 0.25071438,  0.48167573, -0.83957978,  1.01643075, -1.23111387,\n",
              "        -0.18240207, -0.20065327,  0.95013036],\n",
              "       [ 0.43505946,  0.35937667, -0.587036  ,  0.85892578, -1.04977971,\n",
              "        -0.69845453,  0.11539511,  0.51382558],\n",
              "       [ 0.33415551,  0.14521868, -0.47928027,  0.70021034, -1.00312728,\n",
              "        -0.53053884,  0.25303442,  0.41540167],\n",
              "       [ 0.12311842, -0.4273589 , -0.24232009,  0.42247033, -0.91872176,\n",
              "        -0.11387245,  0.31648533,  0.04656133]])"
            ]
          },
          "execution_count": 14,
          "metadata": {},
          "output_type": "execute_result"
        }
      ],
      "source": [
        "new_v = np.matmul(attention, v)\n",
        "new_v"
      ]
    },
    {
      "cell_type": "code",
      "execution_count": 15,
      "metadata": {
        "colab": {
          "base_uri": "https://localhost:8080/"
        },
        "id": "vCP2aZOU9VrT",
        "outputId": "e1fe2137-cd95-4a4b-fa1a-3ec21c38104c"
      },
      "outputs": [
        {
          "data": {
            "text/plain": [
              "array([[ 0.25071438,  0.48167573, -0.83957978,  1.01643075, -1.23111387,\n",
              "        -0.18240207, -0.20065327,  0.95013036],\n",
              "       [ 0.82162369,  0.10292045, -0.05746185,  0.52864418, -0.66952928,\n",
              "        -1.78059581,  0.77813588, -0.40108804],\n",
              "       [-0.66864595, -1.42532636,  0.10349183, -0.39111405, -0.82901721,\n",
              "         1.36554832,  1.00452033,  0.1064458 ],\n",
              "       [-0.20783097, -1.24203338, -0.21402217,  0.51111155, -1.04557928,\n",
              "         0.89600215, -0.68059817, -0.46919933]])"
            ]
          },
          "execution_count": 15,
          "metadata": {},
          "output_type": "execute_result"
        }
      ],
      "source": [
        "v"
      ]
    },
    {
      "cell_type": "code",
      "execution_count": null,
      "metadata": {
        "id": "h_JndWelLDNW"
      },
      "outputs": [],
      "source": []
    },
    {
      "cell_type": "markdown",
      "metadata": {
        "id": "nSiJuBQELFHT"
      },
      "source": [
        "# Function"
      ]
    },
    {
      "cell_type": "code",
      "execution_count": 16,
      "metadata": {
        "id": "XvTnmdcB_jdq"
      },
      "outputs": [],
      "source": [
        "def softmax(x):\n",
        "  return (np.exp(x).T / np.sum(np.exp(x), axis=-1)).T\n",
        "\n",
        "def scaled_dot_product_attention(q, k, v, mask=None):\n",
        "  d_k = q.shape[-1]\n",
        "  scaled = np.matmul(q, k.T) / math.sqrt(d_k)\n",
        "  if mask is not None:\n",
        "    scaled = scaled + mask\n",
        "  attention = softmax(scaled)\n",
        "  out = np.matmul(attention, v)\n",
        "  return out, attention"
      ]
    },
    {
      "cell_type": "code",
      "execution_count": 17,
      "metadata": {
        "colab": {
          "base_uri": "https://localhost:8080/"
        },
        "id": "KSxLkZdiSLMT",
        "outputId": "ca70508d-fb6e-4eec-acb6-7a89a60dffa8"
      },
      "outputs": [
        {
          "name": "stdout",
          "output_type": "stream",
          "text": [
            "Q\n",
            " [[ 0.88888321 -0.82574469  0.46908683 -0.45678327 -1.38265852  0.1694321\n",
            "  -1.59119032 -1.00098324]\n",
            " [ 0.28561517  0.74317068 -0.12289067  0.80702098  0.40739247 -1.09360065\n",
            "  -1.434       0.29304955]\n",
            " [-0.38901001 -0.25273029  0.68103981  0.79027909  0.41875152  0.30114817\n",
            "  -2.40908679  0.54390039]\n",
            " [-0.824473   -1.08835662 -0.09119343 -0.33749289  0.64509967 -0.98941865\n",
            "  -0.51312064 -0.81792968]]\n",
            "K\n",
            " [[-0.81240097  1.5552482   0.35304198 -0.43006368 -0.11817176 -0.40379548\n",
            "  -1.51102001 -0.58216536]\n",
            " [-0.66054204  0.2284632   0.37370332  0.52223403  0.88503708  0.02266103\n",
            "  -0.24734445 -0.74583914]\n",
            " [-0.09362249  0.3931177  -1.09009438 -0.27058443  0.51030466 -0.76357283\n",
            "   0.28079781  0.21337443]\n",
            " [ 1.61403764 -0.89593099 -0.47805923 -0.55238847 -0.71730832 -0.10996484\n",
            "  -0.54357201 -0.07042023]]\n",
            "V\n",
            " [[ 0.25071438  0.48167573 -0.83957978  1.01643075 -1.23111387 -0.18240207\n",
            "  -0.20065327  0.95013036]\n",
            " [ 0.82162369  0.10292045 -0.05746185  0.52864418 -0.66952928 -1.78059581\n",
            "   0.77813588 -0.40108804]\n",
            " [-0.66864595 -1.42532636  0.10349183 -0.39111405 -0.82901721  1.36554832\n",
            "   1.00452033  0.1064458 ]\n",
            " [-0.20783097 -1.24203338 -0.21402217  0.51111155 -1.04557928  0.89600215\n",
            "  -0.68059817 -0.46919933]]\n",
            "New V\n",
            " [[ 0.25071438  0.48167573 -0.83957978  1.01643075 -1.23111387 -0.18240207\n",
            "  -0.20065327  0.95013036]\n",
            " [ 0.43505946  0.35937667 -0.587036    0.85892578 -1.04977971 -0.69845453\n",
            "   0.11539511  0.51382558]\n",
            " [ 0.33415551  0.14521868 -0.47928027  0.70021034 -1.00312728 -0.53053884\n",
            "   0.25303442  0.41540167]\n",
            " [ 0.12311842 -0.4273589  -0.24232009  0.42247033 -0.91872176 -0.11387245\n",
            "   0.31648533  0.04656133]]\n",
            "Attention\n",
            " [[1.         0.         0.         0.        ]\n",
            " [0.67710269 0.32289731 0.         0.        ]\n",
            " [0.56231205 0.32600414 0.11168381 0.        ]\n",
            " [0.24909071 0.31973798 0.24397157 0.18719974]]\n"
          ]
        }
      ],
      "source": [
        "values, attention = scaled_dot_product_attention(q, k, v, mask=mask)\n",
        "print(\"Q\\n\", q)\n",
        "print(\"K\\n\", k)\n",
        "print(\"V\\n\", v)\n",
        "print(\"New V\\n\", values)\n",
        "print(\"Attention\\n\", attention)"
      ]
    },
    {
      "cell_type": "code",
      "execution_count": null,
      "metadata": {
        "id": "-HtQQtB2LJus"
      },
      "outputs": [],
      "source": []
    }
  ],
  "metadata": {
    "colab": {
      "provenance": []
    },
    "kernelspec": {
      "display_name": "Python 3",
      "name": "python3"
    },
    "language_info": {
      "codemirror_mode": {
        "name": "ipython",
        "version": 3
      },
      "file_extension": ".py",
      "mimetype": "text/x-python",
      "name": "python",
      "nbconvert_exporter": "python",
      "pygments_lexer": "ipython3",
      "version": "3.11.4"
    }
  },
  "nbformat": 4,
  "nbformat_minor": 0
}
